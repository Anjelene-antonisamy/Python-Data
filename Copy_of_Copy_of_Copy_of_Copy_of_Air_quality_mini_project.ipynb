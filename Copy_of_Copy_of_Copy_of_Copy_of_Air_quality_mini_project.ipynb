{
  "nbformat": 4,
  "nbformat_minor": 0,
  "metadata": {
    "colab": {
      "provenance": [],
      "include_colab_link": true
    },
    "kernelspec": {
      "name": "python3",
      "display_name": "Python 3"
    },
    "language_info": {
      "name": "python"
    }
  },
  "cells": [
    {
      "cell_type": "markdown",
      "metadata": {
        "id": "view-in-github",
        "colab_type": "text"
      },
      "source": [
        "<a href=\"https://colab.research.google.com/github/Anjelene-antonisamy/Python-Data/blob/main/Copy_of_Copy_of_Copy_of_Copy_of_Air_quality_mini_project.ipynb\" target=\"_parent\"><img src=\"https://colab.research.google.com/assets/colab-badge.svg\" alt=\"Open In Colab\"/></a>"
      ]
    },
    {
      "cell_type": "markdown",
      "source": [
        "# Clean and wrangle air quality data\n",
        "\n",
        "The following data file contains data collected at a roadside monitoring station.  You can see the data in a spreadsheet here: https://docs.google.com/spreadsheets/d/1XpAvrpuyMsKDO76EZ3kxuddBOu7cZX1Od4uEts14zco/edit?usp=sharing\n",
        "\n",
        "The data contains:\n",
        "* a heading line (Chatham Roadside) which needs to be skipped\n",
        "* dates which are sometimes left- and sometimes right-justified indicating that they are not formatted as dates, rather they are text (so need to be converted to dates)\n",
        "* times which are not all in the same format\n",
        "* Nitrogen Dioxide levels which are, again, text and sometimes contain nodata\n",
        "* Status which is always the same\n",
        "\n",
        "\n",
        "\n"
      ],
      "metadata": {
        "id": "8qnlsapq24Df"
      }
    },
    {
      "cell_type": "markdown",
      "source": [
        "### Project - clean, sort and wrangle the data\n",
        "\n",
        "Read the dataset into a dataframe, skipping the first row   \n",
        "Convert dates to date format  \n",
        "Remove rows with nodata in the Nitrogen dioxide column  \n",
        "Convert the Nitrogen dioxide levels values to float type  \n",
        "Sort by Nitrogen dioxide level  \n",
        "Create a new column for 'Weekdays' (use df['Date'].dt.weekday)  \n",
        "Rename the column Nitrogen dioxide level to NO2 Level (V ug/m2)  \n",
        "Remove the Status column  \n",
        "\n",
        "The dataset can be viewed here:  https://drive.google.com/file/d/1aYmBf9il2dWA-EROvbYRCZ1rU2t7JwvJ/view?usp=sharing  and the data accessed here: https://drive.google.com/uc?id=1SOe9b4VJ1FCtDVgZ2T8d00-jTw2Kux1i  This is a .csv file  \n",
        "\n",
        "**NOTE:** Some useful references are included at the bottom of this spreadsheet.\n",
        "\n",
        "Use the code cell below to work your code."
      ],
      "metadata": {
        "id": "SSvLiFnp4LjG"
      }
    },
    {
      "cell_type": "code",
      "source": [
        "import pandas as pd\n",
        "url=' https://drive.google.com/uc?id=1SOe9b4VJ1FCtDVgZ2T8d00-jTw2Kux1i'\n",
        "df=pd.read_csv(url, skiprows=1)\n",
        "df.info()\n",
        "df['Date'] = pd.to_datetime(df['Date'], infer_datetime_format=True)\n",
        "df\n",
        "df.dropna(subset=['Nitrogen dioxide'], inplace=True)\n",
        "df\n",
        "df['Nitrogen dioxide'] = pd.to_numeric(df['Nitrogen dioxide'], errors='coerce')\n",
        "\n",
        "df.sort_values(['Nitrogen dioxide'],ascending=True)\n",
        "df\n",
        "df['weekday']=df['Date'].dt.weekday\n",
        "df\n",
        "rename=df.rename(columns={'Nitrogen dioxide': 'NO2 level(Vug/m2)' })\n",
        "print(rename)\n",
        "del rename[\"Status\"]\n",
        "print(rename)\n",
        "\n",
        "\n",
        "\n",
        "\n",
        "\n"
      ],
      "metadata": {
        "id": "txM4TIRUHhsJ",
        "colab": {
          "base_uri": "https://localhost:8080/"
        },
        "outputId": "8fe96f32-4443-4845-cf94-a38d8401c5e4"
      },
      "execution_count": 27,
      "outputs": [
        {
          "output_type": "stream",
          "name": "stdout",
          "text": [
            "<class 'pandas.core.frame.DataFrame'>\n",
            "RangeIndex: 8784 entries, 0 to 8783\n",
            "Data columns (total 4 columns):\n",
            " #   Column            Non-Null Count  Dtype \n",
            "---  ------            --------------  ----- \n",
            " 0   Date              8784 non-null   object\n",
            " 1   Time              8784 non-null   object\n",
            " 2   Nitrogen dioxide  8784 non-null   object\n",
            " 3   Status            8784 non-null   object\n",
            "dtypes: object(4)\n",
            "memory usage: 274.6+ KB\n",
            "           Date      Time  NO2 level(Vug/m2)   Status  weekday\n",
            "0    2020-01-01      1:00           41.07113  V µg/m³        2\n",
            "1    2020-01-01      2:00           38.96040  V µg/m³        2\n",
            "2    2020-01-01      3:00           35.12313  V µg/m³        2\n",
            "3    2020-01-01      4:00           35.85312  V µg/m³        2\n",
            "4    2020-01-01      5:00           32.10503  V µg/m³        2\n",
            "...         ...       ...                ...      ...      ...\n",
            "8779 2020-12-31     20:00           24.46940  V µg/m³        3\n",
            "8780 2020-12-31     21:00           22.62313  V µg/m³        3\n",
            "8781 2020-12-31     22:00           20.31860  V µg/m³        3\n",
            "8782 2020-12-31     23:00           21.47177  V µg/m³        3\n",
            "8783 2020-12-31  24:00:00           15.21582  V µg/m³        3\n",
            "\n",
            "[8784 rows x 5 columns]\n",
            "           Date      Time  NO2 level(Vug/m2)  weekday\n",
            "0    2020-01-01      1:00           41.07113        2\n",
            "1    2020-01-01      2:00           38.96040        2\n",
            "2    2020-01-01      3:00           35.12313        2\n",
            "3    2020-01-01      4:00           35.85312        2\n",
            "4    2020-01-01      5:00           32.10503        2\n",
            "...         ...       ...                ...      ...\n",
            "8779 2020-12-31     20:00           24.46940        3\n",
            "8780 2020-12-31     21:00           22.62313        3\n",
            "8781 2020-12-31     22:00           20.31860        3\n",
            "8782 2020-12-31     23:00           21.47177        3\n",
            "8783 2020-12-31  24:00:00           15.21582        3\n",
            "\n",
            "[8784 rows x 4 columns]\n"
          ]
        },
        {
          "output_type": "stream",
          "name": "stderr",
          "text": [
            "<ipython-input-27-f231db6a6aad>:5: UserWarning: Parsing dates in DD/MM/YYYY format when dayfirst=False (the default) was specified. This may lead to inconsistently parsed dates! Specify a format to ensure consistent parsing.\n",
            "  df['Date'] = pd.to_datetime(df['Date'], infer_datetime_format=True)\n"
          ]
        }
      ]
    },
    {
      "cell_type": "markdown",
      "source": [
        "### Expand the dataset and show summary statistics for larger dataset\n",
        "---\n",
        "\n",
        "There is a second data set here covering the year 2021:  https://drive.google.com/uc?id=1aYmBf9il2dWA-EROvbYRCZ1rU2t7JwvJ  \n",
        "\n",
        "Concatenate the two datasets to expand it to 2020 and 2021.  \n",
        "\n",
        "Before you can concatenate the datasets you will need to clean and wrangle the second dataset in the same way as the first.  Use the code cell below.  Give the second dataset a different name.\n",
        "\n",
        "After the datasets have been concatenated, group the data by Weekdays and show summary statistics by day of the week."
      ],
      "metadata": {
        "id": "jnzAnbsmHk4B"
      }
    },
    {
      "cell_type": "code",
      "source": [
        "import pandas as pd\n",
        "url=' https://drive.google.com/uc?id=1aYmBf9il2dWA-EROvbYRCZ1rU2t7JwvJ'\n",
        "df1=pd.read_csv(url, skiprows=1)\n",
        "df1.info()\n",
        "df1['Date'] = pd.to_datetime(df1['Date'], infer_datetime_format=True)\n",
        "df1\n",
        "df1.dropna(subset=['Nitrogen dioxide'], inplace=True)\n",
        "df1\n",
        "df1['Nitrogen dioxide'] = pd.to_numeric(df['Nitrogen dioxide'], errors='coerce')\n",
        "\n",
        "df1.sort_values(['Nitrogen dioxide'],ascending=True)\n",
        "df1\n",
        "df1['weekday']=df1['Date'].dt.weekday\n",
        "df1\n",
        "rename1=df1.rename(columns={'Nitrogen dioxide': 'NO2 level(Vug/m2)' })\n",
        "print(rename1)\n",
        "del rename1[\"Status\"]\n",
        "print(rename1)\n",
        "concatdf=pd.concat([rename, rename1], axis=0)\n",
        "print(concatdf)\n",
        "concatdf.info()\n",
        "weekdaysort = concatdf.groupby('weekday')\n",
        "print(weekdaysort)\n",
        "summary_weekdaysort = weekdaysort.agg(['mean', 'median', 'std'])\n",
        "print(summary_weekdaysort)\n",
        "import matplotlib.pyplot as plt\n",
        "data=[summary_weekdaysort]\n",
        "plt.plot()\n",
        "plt.show()\n"
      ],
      "metadata": {
        "id": "Gz4u6trsIQJ6",
        "colab": {
          "base_uri": "https://localhost:8080/",
          "height": 1000
        },
        "outputId": "580acf3a-524f-433f-d5a9-3c8191136aad"
      },
      "execution_count": 28,
      "outputs": [
        {
          "output_type": "stream",
          "name": "stdout",
          "text": [
            "<class 'pandas.core.frame.DataFrame'>\n",
            "RangeIndex: 8760 entries, 0 to 8759\n",
            "Data columns (total 4 columns):\n",
            " #   Column            Non-Null Count  Dtype \n",
            "---  ------            --------------  ----- \n",
            " 0   Date              8760 non-null   object\n",
            " 1   Time              8760 non-null   object\n",
            " 2   Nitrogen dioxide  8760 non-null   object\n",
            " 3   Status            8760 non-null   object\n",
            "dtypes: object(4)\n",
            "memory usage: 273.9+ KB\n",
            "           Date   Time  NO2 level(Vug/m2)   Status  weekday\n",
            "0    2021-01-01  01:00           41.07113  V µg/m³        4\n",
            "1    2021-01-01  02:00           38.96040  V µg/m³        4\n",
            "2    2021-01-01  03:00           35.12313  V µg/m³        4\n",
            "3    2021-01-01  04:00           35.85312  V µg/m³        4\n",
            "4    2021-01-01  05:00           32.10503  V µg/m³        4\n",
            "...         ...    ...                ...      ...      ...\n",
            "8755 2021-12-31  20:00           41.51846  P µg/m³        4\n",
            "8756 2021-12-31  21:00           41.99420  P µg/m³        4\n",
            "8757 2021-12-31  22:00           40.84703  P µg/m³        4\n",
            "8758 2021-12-31  23:00           38.47493  P µg/m³        4\n",
            "8759 2021-12-31  24:00           42.42882  P µg/m³        4\n",
            "\n",
            "[8760 rows x 5 columns]\n",
            "           Date   Time  NO2 level(Vug/m2)  weekday\n",
            "0    2021-01-01  01:00           41.07113        4\n",
            "1    2021-01-01  02:00           38.96040        4\n",
            "2    2021-01-01  03:00           35.12313        4\n",
            "3    2021-01-01  04:00           35.85312        4\n",
            "4    2021-01-01  05:00           32.10503        4\n",
            "...         ...    ...                ...      ...\n",
            "8755 2021-12-31  20:00           41.51846        4\n",
            "8756 2021-12-31  21:00           41.99420        4\n",
            "8757 2021-12-31  22:00           40.84703        4\n",
            "8758 2021-12-31  23:00           38.47493        4\n",
            "8759 2021-12-31  24:00           42.42882        4\n",
            "\n",
            "[8760 rows x 4 columns]\n",
            "           Date   Time  NO2 level(Vug/m2)  weekday\n",
            "0    2020-01-01   1:00           41.07113        2\n",
            "1    2020-01-01   2:00           38.96040        2\n",
            "2    2020-01-01   3:00           35.12313        2\n",
            "3    2020-01-01   4:00           35.85312        2\n",
            "4    2020-01-01   5:00           32.10503        2\n",
            "...         ...    ...                ...      ...\n",
            "8755 2021-12-31  20:00           41.51846        4\n",
            "8756 2021-12-31  21:00           41.99420        4\n",
            "8757 2021-12-31  22:00           40.84703        4\n",
            "8758 2021-12-31  23:00           38.47493        4\n",
            "8759 2021-12-31  24:00           42.42882        4\n",
            "\n",
            "[17544 rows x 4 columns]\n",
            "<class 'pandas.core.frame.DataFrame'>\n",
            "Int64Index: 17544 entries, 0 to 8759\n",
            "Data columns (total 4 columns):\n",
            " #   Column             Non-Null Count  Dtype         \n",
            "---  ------             --------------  -----         \n",
            " 0   Date               17544 non-null  datetime64[ns]\n",
            " 1   Time               17544 non-null  object        \n",
            " 2   NO2 level(Vug/m2)  17240 non-null  float64       \n",
            " 3   weekday            17544 non-null  int64         \n",
            "dtypes: datetime64[ns](1), float64(1), int64(1), object(1)\n",
            "memory usage: 685.3+ KB\n",
            "<pandas.core.groupby.generic.DataFrameGroupBy object at 0x7a01a616fcd0>\n",
            "        NO2 level(Vug/m2)                     \n",
            "                     mean    median        std\n",
            "weekday                                       \n",
            "0               16.937967  13.04131  12.853288\n",
            "1               17.388471  13.90332  12.888089\n",
            "2               20.101926  17.36814  13.360477\n",
            "3               19.794506  16.51586  13.521275\n",
            "4               19.307867  16.28854  12.660420\n",
            "5               17.878773  14.78142  12.576080\n",
            "6               18.217851  15.02312  12.787779\n"
          ]
        },
        {
          "output_type": "stream",
          "name": "stderr",
          "text": [
            "<ipython-input-28-e2ba75aa4822>:5: UserWarning: Parsing dates in DD/MM/YYYY format when dayfirst=False (the default) was specified. This may lead to inconsistently parsed dates! Specify a format to ensure consistent parsing.\n",
            "  df1['Date'] = pd.to_datetime(df1['Date'], infer_datetime_format=True)\n",
            "<ipython-input-28-e2ba75aa4822>:24: FutureWarning: ['Date', 'Time'] did not aggregate successfully. If any error is raised this will raise in a future version of pandas. Drop these columns/ops to avoid this warning.\n",
            "  summary_weekdaysort = weekdaysort.agg(['mean', 'median', 'std'])\n"
          ]
        },
        {
          "output_type": "display_data",
          "data": {
            "text/plain": [
              "<Figure size 640x480 with 1 Axes>"
            ],
            "image/png": "[encoded data removed]"
          },
          "metadata": {}
        }
      ]
    },
    {
      "cell_type": "markdown",
      "source": [
        "### Helpful references\n",
        "\n",
        "> Indented block\n",
        "\n",
        "\n",
        "---\n",
        "Skipping rows when reading datasets:  \n",
        "https://www.geeksforgeeks.org/how-to-skip-rows-while-reading-csv-file-using-pandas/  \n",
        "\n",
        "Converting strings to dates:  \n",
        "https://www.geeksforgeeks.org/convert-the-column-type-from-string-to-datetime-format-in-pandas-dataframe/\n",
        "\n",
        "Dropping rows where data has a given value:  \n",
        "https://www.datasciencemadesimple.com/drop-delete-rows-conditions-python-pandas/  \n",
        "(see section Drop a row or observation by condition)\n",
        "\n",
        "Convert a column of strings to a column of floats:\n",
        "https://datatofish.com/convert-string-to-float-dataframe/  \n",
        "\n",
        "Create a new column from data converted in an existing column:  \n",
        "https://www.geeksforgeeks.org/create-a-new-column-in-pandas-dataframe-based-on-the-existing-columns/  \n",
        "\n",
        "Rename a column:  \n",
        "https://pandas.pydata.org/docs/reference/api/pandas.DataFrame.rename.html  \n",
        "\n",
        "Remove a column by name:  \n",
        "https://www.kite.com/python/answers/how-to-delete-columns-from-a-pandas-%60dataframe%60-by-column-name-in-python#:~:text=Use%20the%20del%20keyword%20to,the%20name%20column_name%20from%20DataFrame%20.\n"
      ],
      "metadata": {
        "id": "hkj-Ofus_D6_"
      }
    }
  ]
}