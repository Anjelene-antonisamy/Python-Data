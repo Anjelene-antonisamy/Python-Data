{
  "nbformat": 4,
  "nbformat_minor": 0,
  "metadata": {
    "colab": {
      "provenance": [],
      "include_colab_link": true
    },
    "kernelspec": {
      "name": "python3",
      "display_name": "Python 3"
    },
    "language_info": {
      "name": "python"
    }
  },
  "cells": [
    {
      "cell_type": "markdown",
      "metadata": {
        "id": "view-in-github",
        "colab_type": "text"
      },
      "source": [
        "<a href=\"https://colab.research.google.com/github/Anjelene-antonisamy/Python-Data/blob/main/Copy_of_Lists_and_Dictionaries_Challenges.ipynb\" target=\"_parent\"><img src=\"https://colab.research.google.com/assets/colab-badge.svg\" alt=\"Open In Colab\"/></a>"
      ]
    },
    {
      "cell_type": "markdown",
      "metadata": {
        "id": "nEJLJX3J9B2k"
      },
      "source": [
        "# Some challenges to help you become more confident with using Lists, Tuples and Dictionaries\n",
        "\n",
        "---\n",
        "\n"
      ]
    },
    {
      "cell_type": "markdown",
      "metadata": {
        "id": "JvV6htgh9Nc1"
      },
      "source": [
        "### Exercise 1 - extending a list\n",
        "\n",
        "There are three ways to extend a list in Python:  \n",
        "*  use `list_name.append(item)`, `list_name.insert(item)`\n",
        "*  concatenate two lists using the + operator (e.g. new_list = list1 + list2)\n",
        "*  use `list1_name.extend(list2_name)`\n",
        "\n",
        "The last method allows us to add all the `list2` items onto `list1` and for the new, extended list to now be `list1`.  `list2` will always be added to the end of `list1`.  \n",
        "\n",
        "If the objective is to add list2 before list1 then use `list2.extend(list1)`\n",
        "\n",
        "Write a function which will:  \n",
        "*  create a list of **years** containing the years 1960, 1970, 1980, 1990, 2000  \n",
        "*  print the list of years  \n",
        "*  calculate how long ago each year was and print the year and how long ago it was (e.g. 1990 was 30 years ago)  *(Hint:  use the datetime library to get the current year)*   \n",
        "*  create a second list, **years2** containing the years 2010 and 2020, extend `years` to include these later years\n",
        "*  create a third list, **years3** containing the years 1930, 1940 and 1950 and extend the list to include all the years between 1930 and 2020\n",
        "*  print the final list\n",
        "\n",
        "Expected output:  \n",
        "[1960, 1970, 1980, 1990]  \n",
        "1960 was 61 years ago  \n",
        "1970 was 51 years ago  \n",
        "1980 was 41 years ago  \n",
        "1990 was 31 years ago  \n",
        "2000 was 21 years ago  \n",
        "[1930, 1940, 1950, 1960, 1970, 1980, 1990, 2000, 2010, 2020]"
      ]
    },
    {
      "cell_type": "code",
      "metadata": {
        "id": "QAyTVqoO8-08",
        "colab": {
          "base_uri": "https://localhost:8080/"
        },
        "outputId": "2e889225-8f2d-40b1-8432-7db6520ba4ce"
      },
      "source": [
        "list1=(1960, 1970, 1980, 1990)\n",
        "current_year=2023\n",
        "year=(\"1960 was\" ,current_year - 1960 , \"years ago\")\n",
        "print(year)\n",
        "year=(\"1970 was\" ,current_year - 1970 , \"years ago\")\n",
        "print(year)\n",
        "year=(\"1980 was\" ,current_year - 1980 , \"years ago\")\n",
        "print(year)\n",
        "year=(\"1990 was\" ,current_year - 1990 , \"years ago\")\n",
        "print(year)\n",
        "year=(\"2000 was\" ,current_year - 2000 , \"years ago\")\n",
        "print(year)\n",
        "list2=(2000,2010,2020)\n",
        "print(list2)\n",
        "list3=(1930, 1940, 1950)\n",
        "print(list3)\n",
        "final_list=(list3 ,  list1 , list2)\n",
        "print(final_list)\n"
      ],
      "execution_count": 17,
      "outputs": [
        {
          "output_type": "stream",
          "name": "stdout",
          "text": [
            "('1960 was', 63, 'years ago')\n",
            "('1970 was', 53, 'years ago')\n",
            "('1980 was', 43, 'years ago')\n",
            "('1990 was', 33, 'years ago')\n",
            "('2000 was', 23, 'years ago')\n",
            "(2000, 2010, 2020)\n",
            "(1930, 1940, 1950)\n",
            "((1930, 1940, 1950), (1960, 1970, 1980, 1990), (2000, 2010, 2020))\n"
          ]
        }
      ]
    },
    {
      "cell_type": "markdown",
      "source": [],
      "metadata": {
        "id": "n85Xw4gmMwge"
      }
    },
    {
      "cell_type": "markdown",
      "metadata": {
        "id": "S5iPicFzBzOW"
      },
      "source": [
        "---\n",
        "### Exercise 2 - creating a dictionary from a tuple and three lists\n",
        "\n",
        "Write a function which will create a list of dictionary items using the values in a tuple as the dictionary keys and the values in three corresponding lists as the dictionary values.\n",
        "\n",
        "*  loop through the status items in the tuple called task_status\n",
        "*  for each status, loop through the list with the same name (*Hint:  you can use eval(status) to access the list with the matching name  e.g. for task in eval(status)* )\n",
        "*  each time round this second loop, create a dictionary object with the  key:value pair {status : task}\n",
        "*  add each new dictionary to a list called **project_board** that was created as an empty list before the loops  \n",
        "*  print the project_board list\n",
        "\n",
        "Expected output:  \n",
        "\n",
        "[{'assigned': 'task1'}, {'assigned': 'task2'}, {'assigned': 'task3'}, {'inprogress': 'task4'}, {'inprogress': 'task5'}, {'inprogress': 'task6'}, {'completed': 'task7'}, {'completed': 'task8'}, {'completed': 'task9'}]\n",
        "\n"
      ]
    },
    {
      "cell_type": "code",
      "metadata": {
        "id": "KXYOSHY-C7m4",
        "colab": {
          "base_uri": "https://localhost:8080/"
        },
        "outputId": "db908e24-3fd7-4090-964f-64172b0a97bd"
      },
      "source": [
        "def create_project_board(task_status, assigned_list, inprogress_list, completed_list):\n",
        "    project_board = []\n",
        "\n",
        "    for status in task_status:\n",
        "        if status == 'assigned':\n",
        "            for task in assigned_list:\n",
        "                project_board.append({'assigned': task})\n",
        "        elif status == 'inprogress':\n",
        "            for task in inprogress_list:\n",
        "                project_board.append({'inprogress': task})\n",
        "        elif status == 'completed':\n",
        "            for task in completed_list:\n",
        "                project_board.append({'completed': task})\n",
        "\n",
        "    return project_board\n",
        "\n",
        "# Sample data\n",
        "task_status = ('assigned', 'inprogress', 'completed')\n",
        "assigned_list = ['task1', 'task2', 'task3']\n",
        "inprogress_list = ['task4', 'task5', 'task6']\n",
        "completed_list = ['task7', 'task8', 'task9']\n",
        "\n",
        "# Create and print the project board\n",
        "project_board = create_project_board(task_status, assigned_list, inprogress_list, completed_list)\n",
        "print(project_board)\n",
        "\n"
      ],
      "execution_count": 2,
      "outputs": [
        {
          "output_type": "stream",
          "name": "stdout",
          "text": [
            "[{'assigned': 'task1'}, {'assigned': 'task2'}, {'assigned': 'task3'}, {'inprogress': 'task4'}, {'inprogress': 'task5'}, {'inprogress': 'task6'}, {'completed': 'task7'}, {'completed': 'task8'}, {'completed': 'task9'}]\n"
          ]
        }
      ]
    },
    {
      "cell_type": "markdown",
      "metadata": {
        "id": "M1BuTu9p19Ma"
      },
      "source": [
        "---\n",
        "### Exercise 3 - names and heights\n",
        "\n",
        "Write a function which will allow a user to enter the names and heights of a set of people and add each set of information as a record (dictionary) to a list. The function will stop collecting names and heights when the user enters \"STOP\" as the name.\n",
        "\n",
        "Then, the function will:  \n",
        "\n",
        "*   produce a list of names in order of the shortest person to the tallest\n",
        "*   calculate the name of the tallest person\n",
        "*   calculate the name of the shortest person\n",
        "*   calculate the average height\n",
        "*   calculate the name of the person who is closest to the average height\n",
        "\n",
        "\n",
        "\n",
        "\n"
      ]
    },
    {
      "cell_type": "code",
      "metadata": {
        "id": "reuyww3e18uv",
        "colab": {
          "base_uri": "https://localhost:8080/"
        },
        "outputId": "6a96ee6d-ac3a-4aa5-fb6e-2d406e0393ce"
      },
      "source": [
        "def collect_person_info():\n",
        "    records = []\n",
        "\n",
        "    while True:\n",
        "        name = input(\"Enter a name (or 'stop' to quit): \")\n",
        "        if name.lower() == 'stop':\n",
        "            break\n",
        "        height = float(input(\"Enter height in centimeters: \"))\n",
        "        records.append({'name': name, 'height': height})\n",
        "\n",
        "    return records\n",
        "\n",
        "def analyze_person_info(records):\n",
        "    sorted_records = sorted(records, key=lambda x: x['height'])\n",
        "    shortest_person = sorted_records[0]['name']\n",
        "    tallest_person = sorted_records[-1]['name']\n",
        "\n",
        "    total_height = sum(record['height'] for record in records)\n",
        "    average_height = total_height / len(records)\n",
        "\n",
        "    closest_to_average = min(records, key=lambda x: abs(x['height'] - average_height))['name']\n",
        "\n",
        "    return sorted_records, tallest_person, shortest_person, average_height, closest_to_average\n",
        "person_records = collect_person_info()\n",
        "\n",
        "\n",
        "sorted_records, tallest_person, shortest_person, average_height, closest_to_average = analyze_person_info(person_records)\n",
        "\n",
        "print(\"List of names from shortest to tallest:\", [record['name'] for record in sorted_records])\n",
        "print(\"Tallest person:\", tallest_person)\n",
        "print(\"Shortest person:\", shortest_person)\n",
        "print(\"Average height:\", average_height)\n",
        "print(\"Person closest to average height:\", closest_to_average)\n"
      ],
      "execution_count": 3,
      "outputs": [
        {
          "output_type": "stream",
          "name": "stdout",
          "text": [
            "Enter a name (or 'stop' to quit): John\n",
            "Enter height in centimeters: 134\n",
            "Enter a name (or 'stop' to quit): Ben\n",
            "Enter height in centimeters: 156\n",
            "Enter a name (or 'stop' to quit): Sam\n",
            "Enter height in centimeters: 143\n",
            "Enter a name (or 'stop' to quit): Stop\n",
            "List of names from shortest to tallest: ['John', 'Sam', 'Ben']\n",
            "Tallest person: Ben\n",
            "Shortest person: John\n",
            "Average height: 144.33333333333334\n",
            "Person closest to average height: Sam\n"
          ]
        }
      ]
    }
  ]
}